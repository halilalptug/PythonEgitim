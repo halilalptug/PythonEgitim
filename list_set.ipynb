{
 "cells": [
  {
   "cell_type": "raw",
   "id": "3c92e55e",
   "metadata": {},
   "source": [
    "[a , b , c , d , e , a]\n",
    "_______________________\n",
    "0 |  1 | 2 | 3  | 4 | 5\n",
    "0 | -5 | -4| -3 | -2| -1\n"
   ]
  },
  {
   "cell_type": "code",
   "execution_count": 2,
   "id": "7fe6e7da",
   "metadata": {},
   "outputs": [
    {
     "name": "stdout",
     "output_type": "stream",
     "text": [
      "['a', 'b', 'c', 'd', 'e', 'a']\n"
     ]
    }
   ],
   "source": [
    "liste = ['a', 'b', 'c', 'd', 'e', 'a']\n",
    "print(liste)"
   ]
  },
  {
   "cell_type": "code",
   "execution_count": 3,
   "id": "e1d04f67",
   "metadata": {},
   "outputs": [],
   "source": [
    "liste = liste + ['f'] #bu şekilde eleman eklenebilir. direk 'f' olarak eklenmez çünkü listeler ancak başka bir liste ile birleştirilebilir."
   ]
  },
  {
   "cell_type": "code",
   "execution_count": 4,
   "id": "a76bdc72",
   "metadata": {},
   "outputs": [
    {
     "data": {
      "text/plain": [
       "['a', 'b', 'c', 'd', 'e', 'a', 'f']"
      ]
     },
     "execution_count": 4,
     "metadata": {},
     "output_type": "execute_result"
    }
   ],
   "source": [
    "liste"
   ]
  },
  {
   "cell_type": "code",
   "execution_count": 6,
   "id": "5a261806",
   "metadata": {},
   "outputs": [
    {
     "data": {
      "text/plain": [
       "['d', 'e']"
      ]
     },
     "execution_count": 6,
     "metadata": {},
     "output_type": "execute_result"
    }
   ],
   "source": [
    "liste[3:5]"
   ]
  },
  {
   "cell_type": "code",
   "execution_count": 8,
   "id": "1ea45961",
   "metadata": {},
   "outputs": [
    {
     "data": {
      "text/plain": [
       "0"
      ]
     },
     "execution_count": 8,
     "metadata": {},
     "output_type": "execute_result"
    }
   ],
   "source": [
    "liste.index('a')"
   ]
  },
  {
   "cell_type": "code",
   "execution_count": 9,
   "id": "7f5b5c7d",
   "metadata": {},
   "outputs": [],
   "source": [
    "liste.sort()"
   ]
  },
  {
   "cell_type": "code",
   "execution_count": 10,
   "id": "fb22209b",
   "metadata": {},
   "outputs": [
    {
     "data": {
      "text/plain": [
       "['a', 'a', 'b', 'c', 'd', 'e', 'f']"
      ]
     },
     "execution_count": 10,
     "metadata": {},
     "output_type": "execute_result"
    }
   ],
   "source": [
    "liste"
   ]
  },
  {
   "cell_type": "code",
   "execution_count": 13,
   "id": "3fe802ec",
   "metadata": {},
   "outputs": [],
   "source": [
    "liste.append('g') #bu şekilde de eleman eklenebilir. yeniden atama gerektirmez."
   ]
  },
  {
   "cell_type": "code",
   "execution_count": 12,
   "id": "1f87daec",
   "metadata": {},
   "outputs": [
    {
     "data": {
      "text/plain": [
       "['a', 'a', 'b', 'c', 'd', 'e', 'f', 'g']"
      ]
     },
     "execution_count": 12,
     "metadata": {},
     "output_type": "execute_result"
    }
   ],
   "source": [
    "liste"
   ]
  },
  {
   "cell_type": "code",
   "execution_count": 16,
   "id": "1feb3f1d",
   "metadata": {},
   "outputs": [
    {
     "data": {
      "text/plain": [
       "['a', 'a', 'b', 'c', 'd', 'e', 'f']"
      ]
     },
     "execution_count": 16,
     "metadata": {},
     "output_type": "execute_result"
    }
   ],
   "source": [
    "liste.pop() #en sondaki elemanı listeden çıkartır.\n",
    "liste"
   ]
  },
  {
   "cell_type": "code",
   "execution_count": 17,
   "id": "36ea260e",
   "metadata": {},
   "outputs": [
    {
     "data": {
      "text/plain": [
       "['a', 'a', 'b', 'c', 'd', 'e', 'f']"
      ]
     },
     "execution_count": 17,
     "metadata": {},
     "output_type": "execute_result"
    }
   ],
   "source": [
    "liste"
   ]
  },
  {
   "cell_type": "code",
   "execution_count": 20,
   "id": "51ca96a9",
   "metadata": {},
   "outputs": [
    {
     "data": {
      "text/plain": [
       "'a'"
      ]
     },
     "execution_count": 20,
     "metadata": {},
     "output_type": "execute_result"
    }
   ],
   "source": [
    "liste.pop(0) #index vererek de kullanılabilir."
   ]
  },
  {
   "cell_type": "code",
   "execution_count": 19,
   "id": "79d7cbd3",
   "metadata": {},
   "outputs": [
    {
     "data": {
      "text/plain": [
       "['a', 'b', 'c', 'd', 'e', 'f']"
      ]
     },
     "execution_count": 19,
     "metadata": {},
     "output_type": "execute_result"
    }
   ],
   "source": [
    "liste"
   ]
  },
  {
   "cell_type": "code",
   "execution_count": 21,
   "id": "8bbfde98",
   "metadata": {},
   "outputs": [],
   "source": [
    "sayilar =[123124,321,6564,234215,2231,12,454]"
   ]
  },
  {
   "cell_type": "code",
   "execution_count": 22,
   "id": "32c8bbd3",
   "metadata": {},
   "outputs": [],
   "source": [
    "sayilar.sort() #sıralama komutudur. küçükten büyüğe sıralar."
   ]
  },
  {
   "cell_type": "code",
   "execution_count": 23,
   "id": "b518ec13",
   "metadata": {},
   "outputs": [
    {
     "data": {
      "text/plain": [
       "[12, 321, 454, 2231, 6564, 123124, 234215]"
      ]
     },
     "execution_count": 23,
     "metadata": {},
     "output_type": "execute_result"
    }
   ],
   "source": [
    "sayilar"
   ]
  },
  {
   "cell_type": "code",
   "execution_count": 24,
   "id": "fa062856",
   "metadata": {},
   "outputs": [
    {
     "data": {
      "text/plain": [
       "[234215, 123124, 6564, 2231, 454, 321, 12]"
      ]
     },
     "execution_count": 24,
     "metadata": {},
     "output_type": "execute_result"
    }
   ],
   "source": [
    "sayilar.reverse() #reverse komutu ters çevirir.\n",
    "sayilar"
   ]
  },
  {
   "cell_type": "code",
   "execution_count": 25,
   "id": "e61b046f",
   "metadata": {},
   "outputs": [
    {
     "data": {
      "text/plain": [
       "{12, 321, 454, 2231, 6564, 123124, 234215}"
      ]
     },
     "execution_count": 25,
     "metadata": {},
     "output_type": "execute_result"
    }
   ],
   "source": [
    "set(sayilar) #kümelerdir. mükerrer elamanları 1 kere yazar.  "
   ]
  },
  {
   "cell_type": "code",
   "execution_count": null,
   "id": "672dde49",
   "metadata": {},
   "outputs": [],
   "source": []
  }
 ],
 "metadata": {
  "kernelspec": {
   "display_name": "Python 3 (ipykernel)",
   "language": "python",
   "name": "python3"
  },
  "language_info": {
   "codemirror_mode": {
    "name": "ipython",
    "version": 3
   },
   "file_extension": ".py",
   "mimetype": "text/x-python",
   "name": "python",
   "nbconvert_exporter": "python",
   "pygments_lexer": "ipython3",
   "version": "3.9.13"
  }
 },
 "nbformat": 4,
 "nbformat_minor": 5
}
