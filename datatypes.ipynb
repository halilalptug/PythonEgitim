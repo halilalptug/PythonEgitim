{
 "cells": [
  {
   "cell_type": "raw",
   "id": "47f278d6",
   "metadata": {},
   "source": [
    "############################################\n",
    "\n",
    "Veri Tipleri\n",
    "integer   - int      - 3, 10, 16\n",
    "float     - float    - 1.6, 2.3, 35.13\n",
    "string    - str      - \"Slm\", 'a'\n",
    "boolean   - bool     - True, False\n",
    "List      - list     - [1, 2, True, 'a']\n",
    "Set       - set      - {1,2,True}\n",
    "Dictionar - dict     - {'isim': 'Mesut, 'yas': 32}\n",
    "Tuple     - tup      - (1, 2, True)\n",
    "\n",
    "############################################"
   ]
  },
  {
   "cell_type": "code",
   "execution_count": 15,
   "id": "f49233da",
   "metadata": {},
   "outputs": [
    {
     "data": {
      "text/plain": [
       "bool"
      ]
     },
     "execution_count": 15,
     "metadata": {},
     "output_type": "execute_result"
    }
   ],
   "source": [
    "type(True)"
   ]
  },
  {
   "cell_type": "code",
   "execution_count": 16,
   "id": "7182f9a4",
   "metadata": {},
   "outputs": [
    {
     "data": {
      "text/plain": [
       "float"
      ]
     },
     "execution_count": 16,
     "metadata": {},
     "output_type": "execute_result"
    }
   ],
   "source": [
    "type(234215.2324)"
   ]
  },
  {
   "cell_type": "code",
   "execution_count": null,
   "id": "c4160689",
   "metadata": {},
   "outputs": [],
   "source": []
  }
 ],
 "metadata": {
  "kernelspec": {
   "display_name": "Python 3 (ipykernel)",
   "language": "python",
   "name": "python3"
  },
  "language_info": {
   "codemirror_mode": {
    "name": "ipython",
    "version": 3
   },
   "file_extension": ".py",
   "mimetype": "text/x-python",
   "name": "python",
   "nbconvert_exporter": "python",
   "pygments_lexer": "ipython3",
   "version": "3.9.13"
  }
 },
 "nbformat": 4,
 "nbformat_minor": 5
}
