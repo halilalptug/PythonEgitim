{
 "cells": [
  {
   "cell_type": "raw",
   "id": "7d5a3aa0",
   "metadata": {},
   "source": [
    "P | Y | T | H | O | N \n",
    "---------------------\n",
    "0 | 1 | 2 | 3 | 4 | 5\n",
    "0 | -5| -4| -3| -2| -1"
   ]
  },
  {
   "cell_type": "code",
   "execution_count": 1,
   "id": "6a3dafc6",
   "metadata": {},
   "outputs": [
    {
     "name": "stdout",
     "output_type": "stream",
     "text": [
      "Python\n"
     ]
    }
   ],
   "source": [
    "strvar = \"Python\"\n",
    "print (strvar)"
   ]
  },
  {
   "cell_type": "code",
   "execution_count": 2,
   "id": "da98554e",
   "metadata": {},
   "outputs": [
    {
     "data": {
      "text/plain": [
       "'P'"
      ]
     },
     "execution_count": 2,
     "metadata": {},
     "output_type": "execute_result"
    }
   ],
   "source": [
    " strvar[0]"
   ]
  },
  {
   "cell_type": "code",
   "execution_count": 3,
   "id": "5855da61",
   "metadata": {},
   "outputs": [
    {
     "data": {
      "text/plain": [
       "'h'"
      ]
     },
     "execution_count": 3,
     "metadata": {},
     "output_type": "execute_result"
    }
   ],
   "source": [
    "strvar[-3]"
   ]
  },
  {
   "cell_type": "code",
   "execution_count": 4,
   "id": "b42de5c6",
   "metadata": {},
   "outputs": [
    {
     "data": {
      "text/plain": [
       "'thon'"
      ]
     },
     "execution_count": 4,
     "metadata": {},
     "output_type": "execute_result"
    }
   ],
   "source": [
    "strvar[2:]"
   ]
  },
  {
   "cell_type": "code",
   "execution_count": 5,
   "id": "f7e3ad48",
   "metadata": {
    "collapsed": true
   },
   "outputs": [
    {
     "data": {
      "text/plain": [
       "'\\n[] tek eleman alır\\n[:] başlangıç ve bitiş arasında\\n[::] başlangıç ve bitiş arasındaki elemanlar üçüncü kısımdaki değere göre atlayarak değerler alınır.\\n'"
      ]
     },
     "execution_count": 5,
     "metadata": {},
     "output_type": "execute_result"
    }
   ],
   "source": [
    "\"\"\"\n",
    "[] tek eleman alır\n",
    "[:] başlangıç ve bitiş arasında\n",
    "[::] başlangıç ve bitiş arasındaki elemanlar üçüncü kısımdaki değere göre atlayarak değerler alınır.\n",
    "\"\"\""
   ]
  },
  {
   "cell_type": "code",
   "execution_count": 6,
   "id": "a2cbef34",
   "metadata": {},
   "outputs": [
    {
     "data": {
      "text/plain": [
       "'Pyt'"
      ]
     },
     "execution_count": 6,
     "metadata": {},
     "output_type": "execute_result"
    }
   ],
   "source": [
    " strvar[:3]"
   ]
  },
  {
   "cell_type": "code",
   "execution_count": 7,
   "id": "6d21e404",
   "metadata": {},
   "outputs": [
    {
     "data": {
      "text/plain": [
       "'tho'"
      ]
     },
     "execution_count": 7,
     "metadata": {},
     "output_type": "execute_result"
    }
   ],
   "source": [
    "strvar[2:5]"
   ]
  },
  {
   "cell_type": "code",
   "execution_count": 10,
   "id": "8a029ebf",
   "metadata": {},
   "outputs": [
    {
     "data": {
      "text/plain": [
       "'Pto'"
      ]
     },
     "execution_count": 10,
     "metadata": {},
     "output_type": "execute_result"
    }
   ],
   "source": [
    "strvar[::2]"
   ]
  },
  {
   "cell_type": "code",
   "execution_count": 11,
   "id": "f95e44c1",
   "metadata": {},
   "outputs": [
    {
     "data": {
      "text/plain": [
       "6"
      ]
     },
     "execution_count": 11,
     "metadata": {},
     "output_type": "execute_result"
    }
   ],
   "source": [
    "len(strvar)"
   ]
  },
  {
   "cell_type": "code",
   "execution_count": 12,
   "id": "a4b9e099",
   "metadata": {},
   "outputs": [
    {
     "data": {
      "text/plain": [
       "'Python OGREN!'"
      ]
     },
     "execution_count": 12,
     "metadata": {},
     "output_type": "execute_result"
    }
   ],
   "source": [
    "strvar + \" OGREN!\""
   ]
  },
  {
   "cell_type": "code",
   "execution_count": 13,
   "id": "053cc690",
   "metadata": {},
   "outputs": [
    {
     "data": {
      "text/plain": [
       "'PythonPython'"
      ]
     },
     "execution_count": 13,
     "metadata": {},
     "output_type": "execute_result"
    }
   ],
   "source": [
    "strvar * 2"
   ]
  },
  {
   "cell_type": "code",
   "execution_count": 14,
   "id": "e17f22b5",
   "metadata": {},
   "outputs": [
    {
     "data": {
      "text/plain": [
       "'PYTHON'"
      ]
     },
     "execution_count": 14,
     "metadata": {},
     "output_type": "execute_result"
    }
   ],
   "source": [
    "strvar.upper()"
   ]
  },
  {
   "cell_type": "code",
   "execution_count": 15,
   "id": "c1b54893",
   "metadata": {},
   "outputs": [
    {
     "data": {
      "text/plain": [
       "'Python'"
      ]
     },
     "execution_count": 15,
     "metadata": {},
     "output_type": "execute_result"
    }
   ],
   "source": [
    "strvar"
   ]
  },
  {
   "cell_type": "code",
   "execution_count": 16,
   "id": "b0fb088b",
   "metadata": {},
   "outputs": [
    {
     "data": {
      "text/plain": [
       "'python'"
      ]
     },
     "execution_count": 16,
     "metadata": {},
     "output_type": "execute_result"
    }
   ],
   "source": [
    "strvar.lower()"
   ]
  },
  {
   "cell_type": "code",
   "execution_count": 25,
   "id": "55748e89",
   "metadata": {},
   "outputs": [],
   "source": [
    "strvar = strvar +  \" ogren!\""
   ]
  },
  {
   "cell_type": "code",
   "execution_count": 26,
   "id": "077cbc98",
   "metadata": {},
   "outputs": [
    {
     "data": {
      "text/plain": [
       "'Python ogren!'"
      ]
     },
     "execution_count": 26,
     "metadata": {},
     "output_type": "execute_result"
    }
   ],
   "source": [
    "strvar"
   ]
  },
  {
   "cell_type": "code",
   "execution_count": 27,
   "id": "15d29855",
   "metadata": {},
   "outputs": [
    {
     "data": {
      "text/plain": [
       "['Python', 'ogren!']"
      ]
     },
     "execution_count": 27,
     "metadata": {},
     "output_type": "execute_result"
    }
   ],
   "source": [
    "strvar.split()"
   ]
  },
  {
   "cell_type": "code",
   "execution_count": 28,
   "id": "a50878c3",
   "metadata": {},
   "outputs": [
    {
     "data": {
      "text/plain": [
       "'Python ogren!'"
      ]
     },
     "execution_count": 28,
     "metadata": {},
     "output_type": "execute_result"
    }
   ],
   "source": [
    "strvar"
   ]
  },
  {
   "cell_type": "code",
   "execution_count": 30,
   "id": "1e98eed5",
   "metadata": {},
   "outputs": [
    {
     "data": {
      "text/plain": [
       "['Pyth', 'n', 'gren!']"
      ]
     },
     "execution_count": 30,
     "metadata": {},
     "output_type": "execute_result"
    }
   ],
   "source": [
    "stvar.split(\"o\") #o harfi gördükçe ayırıyor."
   ]
  },
  {
   "cell_type": "code",
   "execution_count": null,
   "id": "749c4984",
   "metadata": {},
   "outputs": [],
   "source": []
  }
 ],
 "metadata": {
  "kernelspec": {
   "display_name": "Python 3 (ipykernel)",
   "language": "python",
   "name": "python3"
  },
  "language_info": {
   "codemirror_mode": {
    "name": "ipython",
    "version": 3
   },
   "file_extension": ".py",
   "mimetype": "text/x-python",
   "name": "python",
   "nbconvert_exporter": "python",
   "pygments_lexer": "ipython3",
   "version": "3.9.13"
  }
 },
 "nbformat": 4,
 "nbformat_minor": 5
}
