{
 "cells": [
  {
   "cell_type": "code",
   "execution_count": 1,
   "id": "9f4a489f",
   "metadata": {},
   "outputs": [
    {
     "data": {
      "text/plain": [
       "{'isim': 'Cemşit', 'yas': 32, 'lokasyon': 'Isparta'}"
      ]
     },
     "execution_count": 1,
     "metadata": {},
     "output_type": "execute_result"
    }
   ],
   "source": [
    "dict1 = {'isim': 'Cemşit', 'yas': 32, 'lokasyon': 'Isparta'}\n",
    "dict1"
   ]
  },
  {
   "cell_type": "code",
   "execution_count": 6,
   "id": "aacecdfb",
   "metadata": {},
   "outputs": [
    {
     "data": {
      "text/plain": [
       "{'isim': 'Cevdet',\n",
       " 'yas': 32,\n",
       " 'dogdugu_sehir': 'Kütahya',\n",
       " 'lokasyon': 'Isparta'}"
      ]
     },
     "execution_count": 6,
     "metadata": {},
     "output_type": "execute_result"
    }
   ],
   "source": [
    "dict2 = {\n",
    "    'isim': 'Cevdet',\n",
    "    'yas' : 32,\n",
    "    'dogdugu_sehir': 'Kütahya',\n",
    "    'lokasyon': 'Isparta'\n",
    "} #şeklinde yazılımı daha okunaklı olur. \n",
    "dict2"
   ]
  },
  {
   "cell_type": "code",
   "execution_count": 8,
   "id": "a7c6af83",
   "metadata": {},
   "outputs": [
    {
     "data": {
      "text/plain": [
       "{'isim': 'Cezmi',\n",
       " 'yas': 32,\n",
       " 'lokasyon': {'dogdugu_sehir': 'Isparta', 'yasadigi_sehir': 'Konya'}}"
      ]
     },
     "execution_count": 8,
     "metadata": {},
     "output_type": "execute_result"
    }
   ],
   "source": [
    "dict3 = {\n",
    "    'isim' : 'Cezmi',\n",
    "    'yas' : 32,\n",
    "    'lokasyon' : {\n",
    "        'dogdugu_sehir': 'Isparta',\n",
    "        'yasadigi_sehir': 'Konya'\n",
    "        \n",
    "    }  \n",
    "}\n",
    "dict3 #dict içinde dict bulunabilir."
   ]
  },
  {
   "cell_type": "code",
   "execution_count": 9,
   "id": "6d899964",
   "metadata": {},
   "outputs": [
    {
     "data": {
      "text/plain": [
       "32"
      ]
     },
     "execution_count": 9,
     "metadata": {},
     "output_type": "execute_result"
    }
   ],
   "source": [
    "dict2['yas']"
   ]
  },
  {
   "cell_type": "code",
   "execution_count": 12,
   "id": "6591e636",
   "metadata": {},
   "outputs": [
    {
     "data": {
      "text/plain": [
       "'Konya'"
      ]
     },
     "execution_count": 12,
     "metadata": {},
     "output_type": "execute_result"
    }
   ],
   "source": [
    "dict3['lokasyon']['yasadigi_sehir']"
   ]
  },
  {
   "cell_type": "code",
   "execution_count": 14,
   "id": "b18708cc",
   "metadata": {},
   "outputs": [
    {
     "data": {
      "text/plain": [
       "32"
      ]
     },
     "execution_count": 14,
     "metadata": {},
     "output_type": "execute_result"
    }
   ],
   "source": [
    "dict2.get('yas') #belirli bir keyde hangi value var onu gösterir."
   ]
  },
  {
   "cell_type": "code",
   "execution_count": 15,
   "id": "3350d037",
   "metadata": {},
   "outputs": [
    {
     "data": {
      "text/plain": [
       "'Konya'"
      ]
     },
     "execution_count": 15,
     "metadata": {},
     "output_type": "execute_result"
    }
   ],
   "source": [
    "dict3.get('lokasyon').get('yasadigi_sehir') #nested dictler bu şekilde."
   ]
  },
  {
   "cell_type": "code",
   "execution_count": 17,
   "id": "cab8d811",
   "metadata": {},
   "outputs": [
    {
     "data": {
      "text/plain": [
       "dict_keys(['isim', 'yas', 'lokasyon'])"
      ]
     },
     "execution_count": 17,
     "metadata": {},
     "output_type": "execute_result"
    }
   ],
   "source": [
    "dict3.keys() #belirli bir dictteki keyleri verir."
   ]
  },
  {
   "cell_type": "code",
   "execution_count": 18,
   "id": "5296d48c",
   "metadata": {},
   "outputs": [
    {
     "data": {
      "text/plain": [
       "dict_values(['Cevdet', 32, 'Kütahya', 'Isparta'])"
      ]
     },
     "execution_count": 18,
     "metadata": {},
     "output_type": "execute_result"
    }
   ],
   "source": [
    "dict2.values() #belirli bir dictteki valueları verir."
   ]
  },
  {
   "cell_type": "code",
   "execution_count": 19,
   "id": "17d2f5c5",
   "metadata": {},
   "outputs": [
    {
     "data": {
      "text/plain": [
       "dict_items([('isim', 'Cevdet'), ('yas', 32), ('dogdugu_sehir', 'Kütahya'), ('lokasyon', 'Isparta')])"
      ]
     },
     "execution_count": 19,
     "metadata": {},
     "output_type": "execute_result"
    }
   ],
   "source": [
    "dict2.items() #belirli bir dict in tüm elemanlarını pair olarak verir."
   ]
  },
  {
   "cell_type": "code",
   "execution_count": null,
   "id": "2011f551",
   "metadata": {},
   "outputs": [],
   "source": []
  }
 ],
 "metadata": {
  "kernelspec": {
   "display_name": "Python 3 (ipykernel)",
   "language": "python",
   "name": "python3"
  },
  "language_info": {
   "codemirror_mode": {
    "name": "ipython",
    "version": 3
   },
   "file_extension": ".py",
   "mimetype": "text/x-python",
   "name": "python",
   "nbconvert_exporter": "python",
   "pygments_lexer": "ipython3",
   "version": "3.9.13"
  }
 },
 "nbformat": 4,
 "nbformat_minor": 5
}
