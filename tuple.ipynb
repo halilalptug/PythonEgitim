{
 "cells": [
  {
   "cell_type": "raw",
   "id": "694305aa",
   "metadata": {},
   "source": [
    "(a  ,  b  ,  c  ,  d  ,  e  ,  a)\n",
    "_________________________________\n",
    "0   |  1  |  2  |  3  |  4  |  5  \n",
    "0   |  -5 |  -4 |  -3 |  -2 | -1"
   ]
  },
  {
   "cell_type": "code",
   "execution_count": 3,
   "id": "f42291a6",
   "metadata": {},
   "outputs": [
    {
     "name": "stdout",
     "output_type": "stream",
     "text": [
      "('a', 'b', 'c', 'd', 'e', 'a')\n"
     ]
    }
   ],
   "source": [
    "tup = ('a' ,'b' ,'c' ,'d' ,'e' ,'a')\n",
    "print(tup)"
   ]
  },
  {
   "cell_type": "code",
   "execution_count": 5,
   "id": "b8467f1a",
   "metadata": {},
   "outputs": [
    {
     "data": {
      "text/plain": [
       "2"
      ]
     },
     "execution_count": 5,
     "metadata": {},
     "output_type": "execute_result"
    }
   ],
   "source": [
    "tup.count('a') #bir elemandan kaç adet olduğunu gösterir."
   ]
  },
  {
   "cell_type": "code",
   "execution_count": 6,
   "id": "126a2ec5",
   "metadata": {},
   "outputs": [
    {
     "data": {
      "text/plain": [
       "1"
      ]
     },
     "execution_count": 6,
     "metadata": {},
     "output_type": "execute_result"
    }
   ],
   "source": [
    "tup.index('b') #bir elemanın hangi indexte olduğunu gösterir."
   ]
  },
  {
   "cell_type": "code",
   "execution_count": 7,
   "id": "756ff7d2",
   "metadata": {},
   "outputs": [
    {
     "data": {
      "text/plain": [
       "0"
      ]
     },
     "execution_count": 7,
     "metadata": {},
     "output_type": "execute_result"
    }
   ],
   "source": [
    "tup.index('a') #ilk hangi indexte var onu gösterir."
   ]
  },
  {
   "cell_type": "code",
   "execution_count": null,
   "id": "0b7b9120",
   "metadata": {},
   "outputs": [],
   "source": []
  }
 ],
 "metadata": {
  "kernelspec": {
   "display_name": "Python 3 (ipykernel)",
   "language": "python",
   "name": "python3"
  },
  "language_info": {
   "codemirror_mode": {
    "name": "ipython",
    "version": 3
   },
   "file_extension": ".py",
   "mimetype": "text/x-python",
   "name": "python",
   "nbconvert_exporter": "python",
   "pygments_lexer": "ipython3",
   "version": "3.9.13"
  }
 },
 "nbformat": 4,
 "nbformat_minor": 5
}
